{
 "cells": [
  {
   "cell_type": "code",
   "execution_count": 2,
   "metadata": {},
   "outputs": [
    {
     "name": "stdout",
     "output_type": "stream",
     "text": [
      "akas.tsv\n",
      "basics.tsv\n",
      "crew.tsv\n",
      "imdb.tsv\n",
      "name.tsv\n",
      "principals.tsv\n",
      "ratings.tsv\n"
     ]
    }
   ],
   "source": [
    "import gzip\n",
    "import shutil\n",
    "import os\n",
    "import pandas as pd\n",
    "import csv\n",
    "import psycopg2\n",
    "tsv_files = [i for i in os.listdir(os.getcwd()) if i[-3:] == 'tsv']\n",
    "\n",
    "conn = psycopg2.connect(\"host=localhost dbname=imdb_final user=INFO7370 password=info7370\")\n",
    "cur = conn.cursor()\n",
    "sql = \"\"\"\n",
    "DROP TABLE IF EXISTS public.{2};\n",
    "CREATE TABLE public.{0}\n",
    "({3}\n",
    ")\n",
    "\n",
    "WITH (\n",
    "    OIDS = FALSE\n",
    ")\n",
    "TABLESPACE pg_default;\n",
    "\n",
    "ALTER TABLE public.{1}\n",
    "    OWNER to \"INFO7370\"\n",
    "    \"\"\"\n",
    "\n",
    "copy =  \"\"\" COPY {0} FROM STDIN WITH CSV HEADER DELIMITER AS {1}\n",
    "NULL AS {2} \"\"\"\n",
    "tab = \"'\\t'\"\n",
    "null = r\"'\\N'\"\n",
    "\n",
    "for i in tsv_files:\n",
    "    with open('{}'.format(i), 'r', encoding=\"utf8\") as file_r:\n",
    "        filename = 'data/{}'.format(i)\n",
    "        if not os.path.exists(os.path.dirname(filename)):\n",
    "            os.makedirs(os.path.dirname(filename))\n",
    "        \n",
    "        with open('data/{}'.format(i), 'w', encoding=\"utf8\")as file_w:\n",
    "            for line in file_r:\n",
    "                file_w.write(line.replace('\"', '-'))\n",
    "        \n",
    "    with open('data/{}'.format(i), 'r', encoding=\"utf8\") as file:\n",
    "        reader = csv.reader(file, delimiter = '\\t')\n",
    "        for line in reader:\n",
    "            cols = ', '.join(i+' '+str('VARCHAR NULL') for i in line)\n",
    "            break\n",
    "        print(i)\n",
    "        table = i[:-4]\n",
    "        cur.execute(query = sql.format(table, table, table, cols))\n",
    "        conn.commit()\n",
    "        cur.copy_expert(sql = copy.format(table, tab, null) , file = file)\n",
    "        conn.commit()"
   ]
  },
  {
   "cell_type": "code",
   "execution_count": 140,
   "metadata": {},
   "outputs": [],
   "source": [
    "conn.close()"
   ]
  },
  {
   "cell_type": "code",
   "execution_count": null,
   "metadata": {},
   "outputs": [],
   "source": [
    "import pandas as pd\n",
    "df_credit = pd.read_csv(\"tmdb_5000_credits.csv\")\n",
    "df_movies = pd.read_csv(\"tmdb_5000_movies.csv\")"
   ]
  },
  {
   "cell_type": "code",
   "execution_count": null,
   "metadata": {},
   "outputs": [],
   "source": [
    "import json\n",
    "def json_to_series(text):\n",
    "    keys, values = zip(*[item for dct in json.loads(text) for item in dct.items()])\n",
    "    return pd.Series(values, index=keys)"
   ]
  },
  {
   "cell_type": "code",
   "execution_count": null,
   "metadata": {},
   "outputs": [],
   "source": [
    "result_credit= pd.concat([df_credit, df_credit['cast'].apply(json_to_series ), df_credit['crew'].apply(json_to_series)], axis= 1) "
   ]
  },
  {
   "cell_type": "code",
   "execution_count": null,
   "metadata": {},
   "outputs": [],
   "source": [
    "dw = '''CREATE table aggregated_data AS /*+DIRECT*/ (\n",
    "\t\n",
    "\t\n",
    "SELECT \tprincipals.tconst\n",
    "-- \t\tak.title,\n",
    "-- \t\tak.region,\n",
    "-- \t\tak.language, \n",
    "-- \t\tak.types,\n",
    "-- \t\tak.attributes,\n",
    "-- \t\tb.titletype,\n",
    "-- \t\tb.isadult, \n",
    "-- \t\tb.runtimeminutes,\n",
    "-- \t\tb.genres,\n",
    "-- \t\tcr.directors,\n",
    "-- \t\tr.averagerating,\n",
    "-- \t\tr.numvotes,\n",
    "-- \t\ti.knownfortitles,\n",
    "-- \t\ti.primaryname\n",
    "FROM principals\n",
    "LEFT JOIN basics\t\tON (principals.tconst = basics.tconst)\n",
    "--LEFT JOIN crew cr \t\tON (cr.tconst = principals.tconst)\n",
    "--LEFT JOIN imdb i \t\tON (i.nconst = principals.nconst)\n",
    "--LEFT JOIN akas ak \t\tON (ak.titleid = principals.tconst)\n",
    "--LEFT JOIN ratings r\t\tON (r.tconst = principals.tconst)'''\n",
    "\n",
    "cur.execute(query = dw)\n",
    "conn.commit()"
   ]
  },
  {
   "cell_type": "code",
   "execution_count": null,
   "metadata": {},
   "outputs": [],
   "source": []
  }
 ],
 "metadata": {
  "kernelspec": {
   "display_name": "Python 3",
   "language": "python",
   "name": "python3"
  },
  "language_info": {
   "codemirror_mode": {
    "name": "ipython",
    "version": 3
   },
   "file_extension": ".py",
   "mimetype": "text/x-python",
   "name": "python",
   "nbconvert_exporter": "python",
   "pygments_lexer": "ipython3",
   "version": "3.6.6"
  }
 },
 "nbformat": 4,
 "nbformat_minor": 2
}
